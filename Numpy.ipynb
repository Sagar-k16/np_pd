{
 "cells": [
  {
   "cell_type": "markdown",
   "metadata": {},
   "source": [
    "__numpy__"
   ]
  },
  {
   "cell_type": "code",
   "execution_count": 6,
   "metadata": {},
   "outputs": [],
   "source": [
    "import numpy            #importing numpy module"
   ]
  },
  {
   "cell_type": "code",
   "execution_count": 7,
   "metadata": {},
   "outputs": [],
   "source": [
    "import numpy as np      #importing numpy module using alias name np"
   ]
  },
  {
   "cell_type": "code",
   "execution_count": null,
   "metadata": {},
   "outputs": [],
   "source": []
  },
  {
   "cell_type": "markdown",
   "metadata": {},
   "source": [
    "__creation__\n",
    "\n",
    "+   1 dimensional Numpy array\n",
    "+   np.array(list)\n",
    "+ \tn-dimensioanl Numpy array\n",
    "+ \tThis case – 1 dimensional\n",
    "+\tHomogeneous\n",
    "+\tNumpy – tries to convert all the elements into a single data type.\n",
    "\n",
    "    +\tE.g. if there is one element of type character, all the other elements will be converted to that type i.e. converts to the highest available data type"
   ]
  },
  {
   "cell_type": "markdown",
   "metadata": {},
   "source": [
    "#### creating 1 dia array"
   ]
  },
  {
   "cell_type": "code",
   "execution_count": 8,
   "metadata": {},
   "outputs": [
    {
     "name": "stdout",
     "output_type": "stream",
     "text": [
      "[12, 213, 4345, 56, 8, 89, 45, 67, 55, 123, 25, 32]\n"
     ]
    },
    {
     "data": {
      "text/plain": [
       "list"
      ]
     },
     "execution_count": 8,
     "metadata": {},
     "output_type": "execute_result"
    }
   ],
   "source": [
    "lst1=[12,213,4345,56,8,89,45,67,55,123,25,32]\n",
    "print(lst1)\n",
    "type(lst1)"
   ]
  },
  {
   "cell_type": "code",
   "execution_count": 9,
   "metadata": {},
   "outputs": [
    {
     "name": "stdout",
     "output_type": "stream",
     "text": [
      "[  12  213 4345   56    8   89   45   67   55  123   25   32]\n"
     ]
    },
    {
     "data": {
      "text/plain": [
       "numpy.ndarray"
      ]
     },
     "execution_count": 9,
     "metadata": {},
     "output_type": "execute_result"
    }
   ],
   "source": [
    "arr1=np.array(lst1)\n",
    "print(arr1)\n",
    "type(arr1)                             #output as list"
   ]
  },
  {
   "cell_type": "code",
   "execution_count": 10,
   "metadata": {},
   "outputs": [
    {
     "name": "stdout",
     "output_type": "stream",
     "text": [
      "[  12.    213.   4345.     56.      8.     89.     45.     67.     55.\n",
      "  123.     25.     32.    120.25]\n"
     ]
    }
   ],
   "source": [
    "lst2=[12,213,4345,56,8,89,45,67,55,123,25,32,120.25]\n",
    "arr2=np.array(lst2)\n",
    "print(arr2)         #output as float because of there is any highest datatype then numpy return result as biggest datatype"
   ]
  },
  {
   "cell_type": "code",
   "execution_count": 11,
   "metadata": {},
   "outputs": [
    {
     "name": "stdout",
     "output_type": "stream",
     "text": [
      "['12' '213' '4345' '56' '8' '89' '45' '67' '55' '123' '25' '32' 'abcd']\n"
     ]
    }
   ],
   "source": [
    "lst3=[12,213,4345,56,8,89,45,67,55,123,25,32,'abcd']\n",
    "arr3=np.array(lst3)\n",
    "print(arr3)                 #output as string"
   ]
  },
  {
   "cell_type": "markdown",
   "metadata": {},
   "source": [
    "__extraction__\n",
    "\n",
    "+ same as list and tuple"
   ]
  },
  {
   "cell_type": "code",
   "execution_count": 12,
   "metadata": {},
   "outputs": [
    {
     "data": {
      "text/plain": [
       "4345"
      ]
     },
     "execution_count": 12,
     "metadata": {},
     "output_type": "execute_result"
    }
   ],
   "source": [
    "lst4=[12,213,4345,56,8,89,45,67,55,123,25,32]\n",
    "arr4=np.array(lst4)\n",
    "arr4[2]                            \n"
   ]
  },
  {
   "cell_type": "markdown",
   "metadata": {},
   "source": [
    "__manipulation (mutability)__"
   ]
  },
  {
   "cell_type": "code",
   "execution_count": 13,
   "metadata": {},
   "outputs": [
    {
     "name": "stdout",
     "output_type": "stream",
     "text": [
      "[  12  213 8690   56    8   89   45   67   55  123   25   32]\n"
     ]
    }
   ],
   "source": [
    "lst5=[12,213,4345,56,8,89,45,67,55,123,25,32]\n",
    "arr5=np.array(lst5)\n",
    "arr5[2]=arr5[2]*2\n",
    "print(arr5)"
   ]
  },
  {
   "cell_type": "markdown",
   "metadata": {},
   "source": [
    "__list vs numpy__"
   ]
  },
  {
   "cell_type": "code",
   "execution_count": 14,
   "metadata": {},
   "outputs": [
    {
     "name": "stdout",
     "output_type": "stream",
     "text": [
      "[12, 34, 67, 76, 44, 78, 90, 8, 23, 34, 56, 85, 78, 56, 221]\n"
     ]
    }
   ],
   "source": [
    "lst1=[12, 34, 67, 76, 44, 78, 90, 8, 23, 34, 56, 85,78,56,221]\n",
    "print(lst1)"
   ]
  },
  {
   "cell_type": "markdown",
   "metadata": {},
   "source": [
    "#### Extracting values based on a condition {values between 30 and 70}"
   ]
  },
  {
   "cell_type": "code",
   "execution_count": 15,
   "metadata": {},
   "outputs": [
    {
     "name": "stdout",
     "output_type": "stream",
     "text": [
      "[34, 67, 44, 34, 56, 56]\n"
     ]
    }
   ],
   "source": [
    "lst2=[]\n",
    "for i in lst1:\n",
    "    if i>30 and i<70:\n",
    "        lst2.append(i)\n",
    "print(lst2)"
   ]
  },
  {
   "cell_type": "code",
   "execution_count": 16,
   "metadata": {},
   "outputs": [
    {
     "name": "stdout",
     "output_type": "stream",
     "text": [
      "[ 12  34  67  76  44  78  90   8  23  34  56  85  78  56 221]\n"
     ]
    },
    {
     "data": {
      "text/plain": [
       "numpy.ndarray"
      ]
     },
     "execution_count": 16,
     "metadata": {},
     "output_type": "execute_result"
    }
   ],
   "source": [
    "lst1=[12, 34, 67, 76, 44, 78, 90, 8, 23, 34, 56, 85,78,56,221]\n",
    "arr1=np.array(lst1)\n",
    "print(arr1)\n",
    "type(arr1)"
   ]
  },
  {
   "cell_type": "raw",
   "metadata": {},
   "source": [
    "Syntax for extracting values based on a conditiion for numpy array\n",
    "\n",
    "> array_name[(condition)]\n",
    "\n",
    "> Every condition must be enclosed using ()"
   ]
  },
  {
   "cell_type": "code",
   "execution_count": 17,
   "metadata": {},
   "outputs": [
    {
     "data": {
      "text/plain": [
       "array([False,  True,  True,  True,  True,  True,  True, False, False,\n",
       "        True,  True,  True,  True,  True,  True])"
      ]
     },
     "execution_count": 17,
     "metadata": {},
     "output_type": "execute_result"
    }
   ],
   "source": [
    "# How conditional extraction works\n",
    "\n",
    "arr1>30 # Provide contion --> Boolean output"
   ]
  },
  {
   "cell_type": "code",
   "execution_count": 18,
   "metadata": {},
   "outputs": [
    {
     "data": {
      "text/plain": [
       "array([ 34,  67,  76,  44,  78,  90,  34,  56,  85,  78,  56, 221])"
      ]
     },
     "execution_count": 18,
     "metadata": {},
     "output_type": "execute_result"
    }
   ],
   "source": [
    "arr1[arr1>30]"
   ]
  },
  {
   "cell_type": "code",
   "execution_count": 19,
   "metadata": {},
   "outputs": [
    {
     "data": {
      "text/plain": [
       "array([34, 67, 44, 34, 56, 56])"
      ]
     },
     "execution_count": 19,
     "metadata": {},
     "output_type": "execute_result"
    }
   ],
   "source": [
    "arr2=arr1[(arr1>30) & (arr1<70)]               #&,|,~\n",
    "arr2\n",
    "#print(arr2)"
   ]
  },
  {
   "cell_type": "code",
   "execution_count": 20,
   "metadata": {},
   "outputs": [
    {
     "data": {
      "text/plain": [
       "[34, 67, 44, 34, 56, 56]"
      ]
     },
     "execution_count": 20,
     "metadata": {},
     "output_type": "execute_result"
    }
   ],
   "source": [
    "list(arr2)             #convert array into list"
   ]
  },
  {
   "cell_type": "code",
   "execution_count": 21,
   "metadata": {},
   "outputs": [
    {
     "data": {
      "text/plain": [
       "array([34, 67, 44, 34, 56, 56])"
      ]
     },
     "execution_count": 21,
     "metadata": {},
     "output_type": "execute_result"
    }
   ],
   "source": [
    "lst2=[]\n",
    "for i in lst1:\n",
    "    if i>30 and i<70:\n",
    "        lst2.append(i)\n",
    "    final=np.array(lst2)\n",
    "final"
   ]
  },
  {
   "cell_type": "markdown",
   "metadata": {},
   "source": [
    "#### pos,neg and zero"
   ]
  },
  {
   "cell_type": "code",
   "execution_count": 22,
   "metadata": {},
   "outputs": [
    {
     "name": "stdout",
     "output_type": "stream",
     "text": [
      "['neg', 'pos', 'zero', 'zero', 'pos', 'neg', 'zero', 'pos', 'pos', 'neg', 'neg', 'pos', 'zero', 'pos']\n"
     ]
    }
   ],
   "source": [
    "lst4 = [-1,1,0,0,1,-1,0,1,1,-1,-1,1,0,1]\n",
    "value_status=[]\n",
    "for i in lst4:\n",
    "    if i>0:\n",
    "        value_status.append('pos')\n",
    "    elif i<0:\n",
    "        value_status.append('neg')\n",
    "    else:\n",
    "        value_status.append('zero')\n",
    "print(value_status)"
   ]
  },
  {
   "cell_type": "code",
   "execution_count": 23,
   "metadata": {},
   "outputs": [
    {
     "name": "stdout",
     "output_type": "stream",
     "text": [
      "[-1, 1, 0, 0, 1, -1, 0, 1, 1, -1, -1, 1, 0, 1]\n",
      "['neg', 'pos', 'zero', 'zero', 'pos', 'neg', 'zero', 'pos', 'pos', 'neg', 'neg', 'pos', 'zero', 'pos']\n"
     ]
    }
   ],
   "source": [
    "lst4 = [-1,1,0,0,1,-1,0,1,1,-1,-1,1,0,1]\n",
    "print(lst4)\n",
    "value_status=[]\n",
    "for i in lst4:\n",
    "    if i>0:\n",
    "        value_status.append('pos')\n",
    "    elif i<0:\n",
    "        value_status.append('neg')\n",
    "    else:\n",
    "        value_status.append('zero')\n",
    "print(value_status)"
   ]
  },
  {
   "cell_type": "code",
   "execution_count": 24,
   "metadata": {},
   "outputs": [
    {
     "data": {
      "text/plain": [
       "array([-1,  1,  0,  0,  1, -1,  0,  1,  1, -1, -1,  1,  0,  1])"
      ]
     },
     "execution_count": 24,
     "metadata": {},
     "output_type": "execute_result"
    }
   ],
   "source": [
    "lst4 = [-1,1,0,0,1,-1,0,1,1,-1,-1,1,0,1]\n",
    "arr4=np.array(lst4)\n",
    "arr4"
   ]
  },
  {
   "cell_type": "code",
   "execution_count": 25,
   "metadata": {},
   "outputs": [
    {
     "name": "stdout",
     "output_type": "stream",
     "text": [
      "['Neg' 'Pos' 'Zero' 'Zero' 'Pos' 'Neg' 'Zero' 'Pos' 'Pos' 'Neg' 'Neg'\n",
      " 'Pos' 'Zero' 'Pos']\n"
     ]
    }
   ],
   "source": [
    "value_status1=np.where(arr4>0,\"Pos\",\n",
    "         np.where(arr4<0,\"Neg\",\"Zero\"))\n",
    "print(value_status1)"
   ]
  },
  {
   "cell_type": "code",
   "execution_count": 26,
   "metadata": {},
   "outputs": [
    {
     "name": "stdout",
     "output_type": "stream",
     "text": [
      "['neg', 'pos', 'zero', 'zero', 'pos', 'neg', 'zero', 'pos', 'pos', 'neg', 'neg', 'pos', 'zero', 'pos']\n"
     ]
    }
   ],
   "source": [
    "print(list(value_status))"
   ]
  },
  {
   "cell_type": "markdown",
   "metadata": {},
   "source": [
    "### 3.5 .arange"
   ]
  },
  {
   "cell_type": "markdown",
   "metadata": {},
   "source": []
  },
  {
   "cell_type": "code",
   "execution_count": 29,
   "metadata": {},
   "outputs": [
    {
     "data": {
      "text/plain": [
       "[0, 1, 2, 3, 4, 5, 6, 7, 8, 9, 10]"
      ]
     },
     "execution_count": 29,
     "metadata": {},
     "output_type": "execute_result"
    }
   ],
   "source": [
    "\n",
    "\n",
    "rg_1 = list(range(0,11,1))\n",
    "rg_1\n",
    "\n"
   ]
  },
  {
   "cell_type": "code",
   "execution_count": 30,
   "metadata": {},
   "outputs": [
    {
     "data": {
      "text/plain": [
       "array([0. , 0.1, 0.2, 0.3, 0.4, 0.5, 0.6, 0.7, 0.8, 0.9, 1. ])"
      ]
     },
     "execution_count": 30,
     "metadata": {},
     "output_type": "execute_result"
    }
   ],
   "source": [
    "rg_2 = np.arange(0,1.1,0.1)\n",
    "rg_2"
   ]
  },
  {
   "cell_type": "markdown",
   "metadata": {},
   "source": [
    "#### multi d array"
   ]
  },
  {
   "cell_type": "code",
   "execution_count": 31,
   "metadata": {},
   "outputs": [
    {
     "data": {
      "text/plain": [
       "[34, 67, 44, 34, 56, 56]"
      ]
     },
     "execution_count": 31,
     "metadata": {},
     "output_type": "execute_result"
    }
   ],
   "source": [
    "lst2"
   ]
  },
  {
   "cell_type": "code",
   "execution_count": 32,
   "metadata": {},
   "outputs": [
    {
     "data": {
      "text/plain": [
       "[12, 213, 4345, 56, 8, 89, 45, 67, 55, 123, 25, 32, 'abcd']"
      ]
     },
     "execution_count": 32,
     "metadata": {},
     "output_type": "execute_result"
    }
   ],
   "source": [
    "lst3\n"
   ]
  },
  {
   "cell_type": "code",
   "execution_count": 34,
   "metadata": {},
   "outputs": [
    {
     "data": {
      "text/plain": [
       "[12, 34, 67, 76, 44, 78, 90, 8, 23, 34, 56, 85, 78, 56, 221]"
      ]
     },
     "execution_count": 34,
     "metadata": {},
     "output_type": "execute_result"
    }
   ],
   "source": [
    "lst1"
   ]
  },
  {
   "cell_type": "code",
   "execution_count": 37,
   "metadata": {},
   "outputs": [
    {
     "name": "stdout",
     "output_type": "stream",
     "text": [
      "(34, 67, 44, 34, 56, 56) [12, 213, 4345, 56, 8, 89, 45, 67] [8, 23, 34, 56, 85, 78, 56, 221]\n"
     ]
    }
   ],
   "source": [
    "t1=(34, 67, 44, 34, 56, 56)\n",
    "l1=[12, 213, 4345, 56, 8, 89, 45, 67]\n",
    "l2=[8, 23, 34, 56, 85, 78, 56, 221]\n",
    "print(t1,l1,l2)"
   ]
  },
  {
   "cell_type": "code",
   "execution_count": 43,
   "metadata": {},
   "outputs": [],
   "source": [
    "mul_arr=np.array([(34, 67, 44, 34, 56, 56), [12, 213, 4345, 56, 8, 89], [8, 23, 34, 56, 85, 78]])"
   ]
  },
  {
   "cell_type": "code",
   "execution_count": 44,
   "metadata": {},
   "outputs": [
    {
     "data": {
      "text/plain": [
       "array([[  34,   67,   44,   34,   56,   56],\n",
       "       [  12,  213, 4345,   56,    8,   89],\n",
       "       [   8,   23,   34,   56,   85,   78]])"
      ]
     },
     "execution_count": 44,
     "metadata": {},
     "output_type": "execute_result"
    }
   ],
   "source": [
    "mul_arr"
   ]
  },
  {
   "cell_type": "code",
   "execution_count": 45,
   "metadata": {},
   "outputs": [
    {
     "data": {
      "text/plain": [
       "numpy.ndarray"
      ]
     },
     "execution_count": 45,
     "metadata": {},
     "output_type": "execute_result"
    }
   ],
   "source": [
    "type(mul_arr)"
   ]
  },
  {
   "cell_type": "code",
   "execution_count": null,
   "metadata": {},
   "outputs": [],
   "source": []
  }
 ],
 "metadata": {
  "kernelspec": {
   "display_name": "Python 3",
   "language": "python",
   "name": "python3"
  },
  "language_info": {
   "codemirror_mode": {
    "name": "ipython",
    "version": 3
   },
   "file_extension": ".py",
   "mimetype": "text/x-python",
   "name": "python",
   "nbconvert_exporter": "python",
   "pygments_lexer": "ipython3",
   "version": "3.7.4"
  }
 },
 "nbformat": 4,
 "nbformat_minor": 2
}
